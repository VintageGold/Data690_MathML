{
  "nbformat": 4,
  "nbformat_minor": 5,
  "metadata": {
    "kernelspec": {
      "display_name": "Python 3",
      "language": "python",
      "name": "python3"
    },
    "language_info": {
      "codemirror_mode": {
        "name": "ipython",
        "version": 3
      },
      "file_extension": ".py",
      "mimetype": "text/x-python",
      "name": "python",
      "nbconvert_exporter": "python",
      "pygments_lexer": "ipython3",
      "version": "3.8.8"
    },
    "colab": {
      "name": "Calculator.ipynb",
      "provenance": [],
      "collapsed_sections": []
    }
  },
  "cells": [
    {
      "cell_type": "code",
      "metadata": {
        "id": "db099961"
      },
      "source": [
        "# Author of calculator object: Tom Kelly\n",
        "\n",
        "import numpy as np\n",
        "from dataclasses import dataclass\n",
        "\n",
        "# Create object/class\n",
        "\n",
        "class calculator(object):\n",
        "    \n",
        "    # initialize object variables\n",
        "    def __init__(self):\n",
        "        # Create an empty list\n",
        "        self.results = []\n",
        "\n",
        "# Decorator method for summation, subtraction, division, multiplication and power\n",
        "    def decoratorfunc(func):\n",
        "      def wrapper(self, a, b):\n",
        "        try:\n",
        "          func(self, a, b)\n",
        "          print('Results Saved')\n",
        "        except:\n",
        "          print('Error: Results Not Saved')\n",
        "      return wrapper\n",
        "\n",
        "# Decorator method for square root\n",
        "    def decoratorsqrt(func):\n",
        "      def wrapper(self, a):\n",
        "        try:\n",
        "          func(self, a)\n",
        "          print('Results Saved')\n",
        "        except:\n",
        "          print('Error: Results Not Saved')\n",
        "      return wrapper\n",
        "        \n",
        "# Create methods for summation, subtraction, division, multiplication, power, and sqrt\n",
        "\n",
        "# Each method checks the length of the list. If it is less than 2, return the entire list \n",
        "# Otherwise, set the value of the list to the last two elements of the list and return the new list\n",
        "    @decoratorfunc\n",
        "    def summation(self, a, b):\n",
        "        self.results.append(a + b)\n",
        "        if len(self.results) > 2:\n",
        "          self.results = self.results[-2:]\n",
        "        else:\n",
        "            self.results = self.results[:]\n",
        "        return a + b\n",
        "\n",
        "    @decoratorfunc\n",
        "    def subtraction(self, a, b):\n",
        "        self.results.append(a - b)\n",
        "        if len(self.results) > 2:\n",
        "          self.results = self.results[-2:]\n",
        "        else:\n",
        "            self.results = self.results[:]\n",
        "        return a - b\n",
        "\n",
        "    @decoratorfunc\n",
        "    def division(self, a, b):\n",
        "      self.results.append(a/b)\n",
        "      if len(self.results) > 2:\n",
        "        self.results = self.results[-2:]\n",
        "      else:\n",
        "        self.results = self.results[:]\n",
        "      return a/b\n",
        "\n",
        "    @decoratorfunc\n",
        "    def multiplication(self, a, b):\n",
        "      \n",
        "      self.results.append(a*b)\n",
        "      if len(self.results) > 2:\n",
        "        self.results = self.results[-2:]\n",
        "      else:\n",
        "            self.results = self.results[:]\n",
        "      return a*b\n",
        "\n",
        "    @decoratorfunc\n",
        "    def power(self, a, b):\n",
        "      self.results.append(a**b)\n",
        "      if len(self.results) > 2:\n",
        "        self.results = self.results[-2:]\n",
        "      else:\n",
        "        self.results = self.results[:]\n",
        "      return a**b\n",
        "\n",
        "    @decoratorsqrt\n",
        "    def sqrt(self, a):\n",
        "      self.results.append(np.sqrt(a))\n",
        "      if len(self.results) > 2:\n",
        "        self.results = self.results[-2:]\n",
        "      else:\n",
        "        self.results = self.results[:]\n",
        "      return np.sqrt(a)\n",
        "    \n",
        "        \n",
        "# Method to return latest two results        \n",
        "    def get_latest_results(self):        \n",
        "        return self.results\n",
        "\n",
        "    \n",
        "# Method to clear list\n",
        "    def clear_results(self):\n",
        "        self.results = []\n",
        "        return self.results\n",
        "    "
      ],
      "id": "db099961",
      "execution_count": 1,
      "outputs": []
    },
    {
      "cell_type": "code",
      "metadata": {
        "id": "33e5f047"
      },
      "source": [
        "# Instantiate calculator object\n",
        "computation = calculator()"
      ],
      "id": "33e5f047",
      "execution_count": 2,
      "outputs": []
    },
    {
      "cell_type": "code",
      "metadata": {
        "colab": {
          "base_uri": "https://localhost:8080/"
        },
        "id": "W6KU6NxDtef0",
        "outputId": "c4823659-a453-4f4f-c415-3fc09cdbd7b7"
      },
      "source": [
        "# compute divident of two numbers\n",
        "\n",
        "computation.division(10,5)"
      ],
      "id": "W6KU6NxDtef0",
      "execution_count": 3,
      "outputs": [
        {
          "output_type": "stream",
          "name": "stdout",
          "text": [
            "Results Saved\n"
          ]
        }
      ]
    },
    {
      "cell_type": "code",
      "metadata": {
        "colab": {
          "base_uri": "https://localhost:8080/"
        },
        "id": "momLBDBxt5YC",
        "outputId": "46ad1174-cb65-432d-beba-0b0e27a5cc9f"
      },
      "source": [
        "# compute quotient of two numbers\n",
        "\n",
        "computation.multiplication(4,6)"
      ],
      "id": "momLBDBxt5YC",
      "execution_count": 4,
      "outputs": [
        {
          "output_type": "stream",
          "name": "stdout",
          "text": [
            "Results Saved\n"
          ]
        }
      ]
    },
    {
      "cell_type": "code",
      "metadata": {
        "colab": {
          "base_uri": "https://localhost:8080/"
        },
        "id": "tGPvvo2muVI8",
        "outputId": "fdd90bce-319c-4600-c694-4ab5112396b7"
      },
      "source": [
        "# compute a**b\n",
        "\n",
        "computation.power(2,3)"
      ],
      "id": "tGPvvo2muVI8",
      "execution_count": 5,
      "outputs": [
        {
          "output_type": "stream",
          "name": "stdout",
          "text": [
            "Results Saved\n"
          ]
        }
      ]
    },
    {
      "cell_type": "code",
      "metadata": {
        "colab": {
          "base_uri": "https://localhost:8080/"
        },
        "id": "o1YA7eF0vNpb",
        "outputId": "53708121-2553-4eac-c22f-9393823adda7"
      },
      "source": [
        "# Compute the square root of a number\n",
        "computation.sqrt(16)"
      ],
      "id": "o1YA7eF0vNpb",
      "execution_count": 6,
      "outputs": [
        {
          "output_type": "stream",
          "name": "stdout",
          "text": [
            "Results Saved\n"
          ]
        }
      ]
    },
    {
      "cell_type": "code",
      "metadata": {
        "colab": {
          "base_uri": "https://localhost:8080/"
        },
        "id": "JfUPoLEeREXc",
        "outputId": "087f3670-4d9f-43c4-aeff-82d3f1e133a5"
      },
      "source": [
        "# Compute sum of two numbers\n",
        "computation.summation(3,4)"
      ],
      "id": "JfUPoLEeREXc",
      "execution_count": 7,
      "outputs": [
        {
          "output_type": "stream",
          "name": "stdout",
          "text": [
            "Results Saved\n"
          ]
        }
      ]
    },
    {
      "cell_type": "code",
      "metadata": {
        "colab": {
          "base_uri": "https://localhost:8080/"
        },
        "id": "eOsOzk35RL9b",
        "outputId": "956102be-fcc1-46dd-e0d5-b89256545d79"
      },
      "source": [
        "# Compute difference of two numbers\n",
        "computation.subtraction(10,5)"
      ],
      "id": "eOsOzk35RL9b",
      "execution_count": 8,
      "outputs": [
        {
          "output_type": "stream",
          "name": "stdout",
          "text": [
            "Results Saved\n"
          ]
        }
      ]
    },
    {
      "cell_type": "code",
      "metadata": {
        "colab": {
          "base_uri": "https://localhost:8080/"
        },
        "id": "887d2aeb",
        "outputId": "447a7182-5fd4-449c-a207-01fbb0d343f4"
      },
      "source": [
        "# Get latest two results\n",
        "computation.get_latest_results()"
      ],
      "id": "887d2aeb",
      "execution_count": 9,
      "outputs": [
        {
          "output_type": "execute_result",
          "data": {
            "text/plain": [
              "[7, 5]"
            ]
          },
          "metadata": {},
          "execution_count": 9
        }
      ]
    },
    {
      "cell_type": "code",
      "metadata": {
        "colab": {
          "base_uri": "https://localhost:8080/"
        },
        "id": "idNSlanCRUWS",
        "outputId": "5616ee04-3e02-4c72-a721-6dc425d7dd1b"
      },
      "source": [
        "# Clear results from list\n",
        "computation.clear_results()"
      ],
      "id": "idNSlanCRUWS",
      "execution_count": 10,
      "outputs": [
        {
          "output_type": "execute_result",
          "data": {
            "text/plain": [
              "[]"
            ]
          },
          "metadata": {},
          "execution_count": 10
        }
      ]
    }
  ]
}