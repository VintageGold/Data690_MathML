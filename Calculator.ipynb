{
  "nbformat": 4,
  "nbformat_minor": 5,
  "metadata": {
    "kernelspec": {
      "display_name": "Python 3",
      "language": "python",
      "name": "python3"
    },
    "language_info": {
      "codemirror_mode": {
        "name": "ipython",
        "version": 3
      },
      "file_extension": ".py",
      "mimetype": "text/x-python",
      "name": "python",
      "nbconvert_exporter": "python",
      "pygments_lexer": "ipython3",
      "version": "3.8.8"
    },
    "colab": {
      "name": "Calculator.ipynb",
      "provenance": [],
      "collapsed_sections": []
    }
  },
  "cells": [
    {
      "cell_type": "code",
      "metadata": {
        "id": "db099961"
      },
      "source": [
        "import numpy as np\n",
        "\n",
        "\n",
        "# Create object/class\n",
        "\n",
        "class calculator(object):\n",
        "    \n",
        "    # initialize object variables\n",
        "    def __init__(self):\n",
        "        # Create an empty list\n",
        "        self.results = []\n",
        "        \n",
        "# Create methods for summation, subtraction, division, multiplication, power, and sqrt\n",
        "\n",
        "# Each method checks the length of the list. If it is less than 2, return the entire list \n",
        "# Otherwise, set the value of the list to the last two elements of the list and return the new list\n",
        "\n",
        "    def summation(self, a, b):\n",
        "        self.results.append(a + b)\n",
        "        if len(self.results) > 2:\n",
        "          self.results = self.results[-2:]\n",
        "        else:\n",
        "            self.results = self.results[:]\n",
        "        return a + b\n",
        "    \n",
        "    def subtraction(self, a, b):\n",
        "        self.results.append(a - b)\n",
        "        if len(self.results) > 2:\n",
        "          self.results = self.results[-2:]\n",
        "        else:\n",
        "            self.results = self.results[:]\n",
        "        return a - b\n",
        "\n",
        "    def division(self, a, b):\n",
        "      self.results.append(a/b)\n",
        "      if len(self.results) > 2:\n",
        "        self.results = self.results[-2:]\n",
        "      else:\n",
        "        self.results = self.results[:]\n",
        "      return a/b\n",
        "\n",
        "    def multiplication(self, a, b):\n",
        "      \n",
        "      self.results.append(a*b)\n",
        "      if len(self.results) > 2:\n",
        "        self.results = self.results[-2:]\n",
        "      else:\n",
        "            self.results = self.results[:]\n",
        "      return a*b\n",
        "\n",
        "    def power(self, a, b):\n",
        "      self.results.append(a**b)\n",
        "      if len(self.results) > 2:\n",
        "        self.results = self.results[-2:]\n",
        "      else:\n",
        "        self.results = self.results[:]\n",
        "      return a**b\n",
        "\n",
        "    def sqrt(self, a):\n",
        "      self.results.append(np.sqrt(a))\n",
        "      if len(self.results) > 2:\n",
        "        self.results = self.results[-2:]\n",
        "      else:\n",
        "        self.results = self.results[:]\n",
        "      return np.sqrt(a)\n",
        "    \n",
        "        \n",
        "# Method to return latest two results        \n",
        "    def get_latest_results(self):        \n",
        "        return self.results\n",
        "\n",
        "    \n",
        "# Method to clear list\n",
        "    def clear_results(self):\n",
        "        self.results = []\n",
        "        return self.results\n",
        "    "
      ],
      "id": "db099961",
      "execution_count": 50,
      "outputs": []
    },
    {
      "cell_type": "code",
      "metadata": {
        "id": "33e5f047"
      },
      "source": [
        "# Instantiate calculator object\n",
        "computation = calculator()"
      ],
      "id": "33e5f047",
      "execution_count": 51,
      "outputs": []
    },
    {
      "cell_type": "code",
      "metadata": {
        "colab": {
          "base_uri": "https://localhost:8080/"
        },
        "id": "W6KU6NxDtef0",
        "outputId": "2701b4e0-0483-46e3-b8db-c6968b0359d0"
      },
      "source": [
        "# compute divident of two numbers\n",
        "\n",
        "computation.division(10,5)"
      ],
      "id": "W6KU6NxDtef0",
      "execution_count": 52,
      "outputs": [
        {
          "output_type": "execute_result",
          "data": {
            "text/plain": [
              "2.0"
            ]
          },
          "metadata": {},
          "execution_count": 52
        }
      ]
    },
    {
      "cell_type": "code",
      "metadata": {
        "colab": {
          "base_uri": "https://localhost:8080/"
        },
        "id": "momLBDBxt5YC",
        "outputId": "3d58f891-988e-4119-cfdd-d7f2e2561c6b"
      },
      "source": [
        "# compute quotient of two numbers\n",
        "\n",
        "computation.multiplication(4,6)"
      ],
      "id": "momLBDBxt5YC",
      "execution_count": 53,
      "outputs": [
        {
          "output_type": "execute_result",
          "data": {
            "text/plain": [
              "24"
            ]
          },
          "metadata": {},
          "execution_count": 53
        }
      ]
    },
    {
      "cell_type": "code",
      "metadata": {
        "colab": {
          "base_uri": "https://localhost:8080/"
        },
        "id": "tGPvvo2muVI8",
        "outputId": "4ad490d3-7f36-405b-8d32-223fc0526078"
      },
      "source": [
        "# compute a**b\n",
        "\n",
        "computation.power(2,3)"
      ],
      "id": "tGPvvo2muVI8",
      "execution_count": 54,
      "outputs": [
        {
          "output_type": "execute_result",
          "data": {
            "text/plain": [
              "8"
            ]
          },
          "metadata": {},
          "execution_count": 54
        }
      ]
    },
    {
      "cell_type": "code",
      "metadata": {
        "colab": {
          "base_uri": "https://localhost:8080/"
        },
        "id": "o1YA7eF0vNpb",
        "outputId": "a858a692-3ea4-4f4a-cad8-b4864481a608"
      },
      "source": [
        "# Compute the square root of a number\n",
        "computation.sqrt(16)"
      ],
      "id": "o1YA7eF0vNpb",
      "execution_count": 55,
      "outputs": [
        {
          "output_type": "execute_result",
          "data": {
            "text/plain": [
              "4.0"
            ]
          },
          "metadata": {},
          "execution_count": 55
        }
      ]
    },
    {
      "cell_type": "code",
      "metadata": {
        "colab": {
          "base_uri": "https://localhost:8080/"
        },
        "id": "JfUPoLEeREXc",
        "outputId": "064f3d9d-ea64-47bf-ed86-daa7d2c1f630"
      },
      "source": [
        "# Compute sum of two numbers\n",
        "computation.summation(3,4)"
      ],
      "id": "JfUPoLEeREXc",
      "execution_count": 56,
      "outputs": [
        {
          "output_type": "execute_result",
          "data": {
            "text/plain": [
              "7"
            ]
          },
          "metadata": {},
          "execution_count": 56
        }
      ]
    },
    {
      "cell_type": "code",
      "metadata": {
        "colab": {
          "base_uri": "https://localhost:8080/"
        },
        "id": "eOsOzk35RL9b",
        "outputId": "9abb82d8-ea51-4593-c57e-f188600dedc1"
      },
      "source": [
        "# Compute difference of two numbers\n",
        "computation.subtraction(10,5)"
      ],
      "id": "eOsOzk35RL9b",
      "execution_count": 57,
      "outputs": [
        {
          "output_type": "execute_result",
          "data": {
            "text/plain": [
              "5"
            ]
          },
          "metadata": {},
          "execution_count": 57
        }
      ]
    },
    {
      "cell_type": "code",
      "metadata": {
        "colab": {
          "base_uri": "https://localhost:8080/"
        },
        "id": "887d2aeb",
        "outputId": "b1f3b28d-8f8a-4641-e94e-c7c46666b45e"
      },
      "source": [
        "# Get latest two results\n",
        "computation.get_latest_results()"
      ],
      "id": "887d2aeb",
      "execution_count": 58,
      "outputs": [
        {
          "output_type": "execute_result",
          "data": {
            "text/plain": [
              "[7, 5]"
            ]
          },
          "metadata": {},
          "execution_count": 58
        }
      ]
    },
    {
      "cell_type": "code",
      "metadata": {
        "colab": {
          "base_uri": "https://localhost:8080/"
        },
        "id": "idNSlanCRUWS",
        "outputId": "cca7c4de-7072-4414-d48e-d4d0f3c32343"
      },
      "source": [
        "# Clear results from list\n",
        "computation.clear_results()"
      ],
      "id": "idNSlanCRUWS",
      "execution_count": 59,
      "outputs": [
        {
          "output_type": "execute_result",
          "data": {
            "text/plain": [
              "[]"
            ]
          },
          "metadata": {},
          "execution_count": 59
        }
      ]
    }
  ]
}