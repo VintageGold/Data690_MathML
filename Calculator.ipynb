{
  "cells": [
    {
      "cell_type": "code",
      "execution_count": 43,
      "id": "db099961",
      "metadata": {
        "id": "db099961"
      },
      "outputs": [],
      "source": [
        "# Author of calculator object: Tom Kelly\n",
        "\n",
        "import numpy as np\n",
        "from dataclasses import dataclass\n",
        "\n",
        "# Create object/class\n",
        "\n",
        "class calculator(object):\n",
        "    \n",
        "    # initialize object variables\n",
        "    def __init__(self):\n",
        "        # Create an empty list\n",
        "        self.results = []\n",
        "\n",
        "# Decorator method for summation, subtraction, division, multiplication and power\n",
        "    def decoratorfunc(func):\n",
        "      def wrapper(self, a, b):\n",
        "        try:\n",
        "          func(self, a, b)\n",
        "          print('Results Saved')\n",
        "        except:\n",
        "          print('Error: Results Not Saved')\n",
        "      return wrapper\n",
        "\n",
        "# Decorator method for square root\n",
        "    def decoratorsqrt(func):\n",
        "      def wrapper(self, a):\n",
        "        try:\n",
        "          func(self, a)\n",
        "          print('Results Saved')\n",
        "        except:\n",
        "          print('Error: Results Not Saved')\n",
        "      return wrapper\n",
        "        \n",
        "# Create methods for summation, subtraction, division, multiplication, power, and sqrt\n",
        "\n",
        "# Each method checks the length of the list. If it is less than 2, return the entire list \n",
        "# Otherwise, set the value of the list to the last two elements of the list and return the new list\n",
        "    @decoratorfunc\n",
        "    def summation(self, a, b):\n",
        "        self.results.append(a + b)\n",
        "        if len(self.results) > 2:\n",
        "          self.results = self.results[-2:]\n",
        "        else:\n",
        "            self.results = self.results[:]\n",
        "        return a + b\n",
        "\n",
        "    @decoratorfunc\n",
        "    def subtraction(self, a, b):\n",
        "        self.results.append(a - b)\n",
        "        if len(self.results) > 2:\n",
        "          self.results = self.results[-2:]\n",
        "        else:\n",
        "            self.results = self.results[:]\n",
        "        return a - b\n",
        "\n",
        "    @decoratorfunc\n",
        "    def division(self, a, b):\n",
        "      self.results.append(a/b)\n",
        "      if len(self.results) > 2:\n",
        "        self.results = self.results[-2:]\n",
        "      else:\n",
        "        self.results = self.results[:]\n",
        "      return a/b\n",
        "\n",
        "    @decoratorfunc\n",
        "    def multiplication(self, a, b):\n",
        "      \n",
        "      self.results.append(a*b)\n",
        "      if len(self.results) > 2:\n",
        "        self.results = self.results[-2:]\n",
        "      else:\n",
        "            self.results = self.results[:]\n",
        "      return a*b\n",
        "\n",
        "    @decoratorfunc\n",
        "    def power(self, a, b):\n",
        "      self.results.append(a**b)\n",
        "      if len(self.results) > 2:\n",
        "        self.results = self.results[-2:]\n",
        "      else:\n",
        "        self.results = self.results[:]\n",
        "      return a**b\n",
        "\n",
        "    @decoratorsqrt\n",
        "    def sqrt(self, a):\n",
        "      self.results.append(np.sqrt(a))\n",
        "      if len(self.results) > 2:\n",
        "        self.results = self.results[-2:]\n",
        "      else:\n",
        "        self.results = self.results[:]\n",
        "      return np.sqrt(a)\n",
        "    \n",
        "        \n",
        "# Method to return latest two results        \n",
        "    def get_latest_results(self):        \n",
        "        return self.results\n",
        "\n",
        "    \n",
        "# Method to clear list\n",
        "    def clear_results(self):\n",
        "        self.results = []\n",
        "        return self.results\n",
        "\n",
        "# Square root using Newtons Method\n",
        "    def sqrtnm(self, guess, a):\n",
        "      xn = guess\n",
        "      for i in range (0, 10):\n",
        "        fxn = xn*xn-a\n",
        "        Dfxn = 2*xn\n",
        "        xn = xn - fxn/Dfxn\n",
        "      return xn\n",
        "\n",
        "    "
      ]
    },
    {
      "cell_type": "code",
      "execution_count": 44,
      "id": "33e5f047",
      "metadata": {
        "id": "33e5f047"
      },
      "outputs": [],
      "source": [
        "# Instantiate calculator object\n",
        "computation = calculator()"
      ]
    },
    {
      "cell_type": "code",
      "execution_count": 45,
      "id": "W6KU6NxDtef0",
      "metadata": {
        "colab": {
          "base_uri": "https://localhost:8080/"
        },
        "id": "W6KU6NxDtef0",
        "outputId": "c4823659-a453-4f4f-c415-3fc09cdbd7b7"
      },
      "outputs": [
        {
          "output_type": "stream",
          "name": "stdout",
          "text": [
            "Results Saved\n"
          ]

        }
      ],
      "source": [
        "# compute divident of two numbers\n",
        "\n",
        "computation.division(10,5)"
      ]
    },
    {
      "cell_type": "code",
      "execution_count": 46,
      "id": "momLBDBxt5YC",
      "metadata": {
        "colab": {
          "base_uri": "https://localhost:8080/"
        },
        "id": "momLBDBxt5YC",
        "outputId": "46ad1174-cb65-432d-beba-0b0e27a5cc9f"
      },
      "outputs": [
        {
          "output_type": "stream",
          "name": "stdout",
          "text": [
            "Results Saved\n"
          ]

        }
      ],
      "source": [
        "# compute quotient of two numbers\n",
        "\n",
        "computation.multiplication(4,6)"
      ]
    },
    {
      "cell_type": "code",
      "execution_count": 47,
      "id": "tGPvvo2muVI8",
      "metadata": {
        "colab": {
          "base_uri": "https://localhost:8080/"
        },
        "id": "tGPvvo2muVI8",
        "outputId": "fdd90bce-319c-4600-c694-4ab5112396b7"
      },
      "outputs": [
        {
          "output_type": "stream",
          "name": "stdout",
          "text": [
            "Results Saved\n"
          ]
        }
      ],
      "source": [
        "# compute a**b\n",
        "\n",
        "computation.power(2,3)"
      ]
    },
    {
      "cell_type": "code",
      "execution_count": 48,
      "id": "o1YA7eF0vNpb",
      "metadata": {
        "colab": {
          "base_uri": "https://localhost:8080/"
        },
        "id": "o1YA7eF0vNpb",
        "outputId": "53708121-2553-4eac-c22f-9393823adda7"
      },
      "outputs": [
        {
          "output_type": "stream",
          "name": "stdout",
          "text": [
            "Results Saved\n"
          ]

        }
      ],
      "source": [
        "# Compute the square root of a number\n",
        "computation.sqrt(16)"
      ]
    },
    {
      "cell_type": "code",
      "execution_count": 49,
      "id": "JfUPoLEeREXc",
      "metadata": {
        "colab": {
          "base_uri": "https://localhost:8080/"
        },
        "id": "JfUPoLEeREXc",
        "outputId": "087f3670-4d9f-43c4-aeff-82d3f1e133a5"
      },
      "outputs": [
        {
          "output_type": "stream",
          "name": "stdout",
          "text": [
            "Results Saved\n"
          ]

        }
      ],
      "source": [
        "# Compute sum of two numbers\n",
        "computation.summation(3,4)"
      ]
    },
    {
      "cell_type": "code",
      "execution_count": 50,
      "id": "eOsOzk35RL9b",
      "metadata": {
        "colab": {
          "base_uri": "https://localhost:8080/"
        },
        "id": "eOsOzk35RL9b",
        "outputId": "956102be-fcc1-46dd-e0d5-b89256545d79"
      },
      "outputs": [
        {
          "output_type": "stream",
          "name": "stdout",
          "text": [
            "Results Saved\n"
          ]

        }
      ],
      "source": [
        "# Compute difference of two numbers\n",
        "computation.subtraction(10,5)"
      ]
    },
    {
      "cell_type": "code",
      "execution_count": 51,
      "id": "887d2aeb",
      "metadata": {
        "colab": {
          "base_uri": "https://localhost:8080/"
        },
        "id": "887d2aeb",
        "outputId": "447a7182-5fd4-449c-a207-01fbb0d343f4"
      },
      "outputs": [
        {
          "data": {
            "text/plain": [
              "[7, 5]"
            ]
          },
          "execution_count": 51,
          "metadata": {},
          "output_type": "execute_result"
        }
      ],
      "source": [
        "# Get latest two results\n",
        "computation.get_latest_results()"
      ]
    },
    {
      "cell_type": "code",
      "execution_count": 52,
      "id": "idNSlanCRUWS",
      "metadata": {
        "colab": {
          "base_uri": "https://localhost:8080/"
        },
        "id": "idNSlanCRUWS",
        "outputId": "5616ee04-3e02-4c72-a721-6dc425d7dd1b"
      },
      "outputs": [
        {
          "data": {
            "text/plain": [
              "[]"
            ]
          },
          "execution_count": 52,
          "metadata": {},
          "output_type": "execute_result"
        }
      ],
      "source": [
        "# Clear results from list\n",
        "computation.clear_results()"
      ]
    },
    {
      "cell_type": "code",
      "execution_count": 61,
      "metadata": {},
      "outputs": [
        {
          "data": {
            "text/plain": [
              "5.0"
            ]
          },
          "execution_count": 61,
          "metadata": {},
          "output_type": "execute_result"
        }
      ],
      "source": [
        "computation.sqrtnm(4,25)"
      ]
    },
    {
      "cell_type": "code",
      "execution_count": 62,
      "metadata": {},
      "outputs": [
        {
          "data": {
            "text/plain": [
              "5.0"
            ]
          },
          "execution_count": 62,
          "metadata": {},
          "output_type": "execute_result"
        }
      ],
      "source": [
        "computation.sqrt(25)"
      ]
    }
  ],
  "metadata": {
    "colab": {
      "collapsed_sections": [],
      "name": "Calculator.ipynb",
      "provenance": []
    },
    "interpreter": {
      "hash": "009c6260f8c949f949e8d5c80e91b7d11da42068722b763148e110eb4d6efd9c"
    },
    "kernelspec": {
      "display_name": "Python 3.8.8 64-bit ('base': conda)",
      "name": "python3"
    },
    "language_info": {
      "codemirror_mode": {
        "name": "ipython",
        "version": 3
      },
      "file_extension": ".py",
      "mimetype": "text/x-python",
      "name": "python",
      "nbconvert_exporter": "python",
      "pygments_lexer": "ipython3",
      "version": "3.8.8"
    }
  },
  "nbformat": 4,
  "nbformat_minor": 5
}
