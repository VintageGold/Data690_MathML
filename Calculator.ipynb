{
  "nbformat": 4,
  "nbformat_minor": 5,
  "metadata": {
    "kernelspec": {
      "display_name": "Python 3",
      "language": "python",
      "name": "python3"
    },
    "language_info": {
      "codemirror_mode": {
        "name": "ipython",
        "version": 3
      },
      "file_extension": ".py",
      "mimetype": "text/x-python",
      "name": "python",
      "nbconvert_exporter": "python",
      "pygments_lexer": "ipython3",
      "version": "3.8.8"
    },
    "colab": {
      "name": "Calculator.ipynb",
      "provenance": [],
      "collapsed_sections": []
    }
  },
  "cells": [
    {
      "cell_type": "code",
      "metadata": {
        "id": "db099961"
      },
      "source": [
        "# Author of calculator object: Tom Kelly\n",
        "\n",
        "import numpy as np\n",
        "\n",
        "\n",
        "# Create object/class\n",
        "\n",
        "class calculator(object):\n",
        "    \n",
        "    # initialize object variables\n",
        "    def __init__(self):\n",
        "        # Create an empty list\n",
        "        self.results = []\n",
        "        \n",
        "# Create methods for summation, subtraction, division, multiplication, power, and sqrt\n",
        "\n",
        "# Each method checks the length of the list. If it is less than 2, return the entire list \n",
        "# Otherwise, set the value of the list to the last two elements of the list and return the new list\n",
        "\n",
        "    def summation(self, a, b):\n",
        "        self.results.append(a + b)\n",
        "        if len(self.results) > 2:\n",
        "          self.results = self.results[-2:]\n",
        "        else:\n",
        "            self.results = self.results[:]\n",
        "        return a + b\n",
        "    \n",
        "    def subtraction(self, a, b):\n",
        "        self.results.append(a - b)\n",
        "        if len(self.results) > 2:\n",
        "          self.results = self.results[-2:]\n",
        "        else:\n",
        "            self.results = self.results[:]\n",
        "        return a - b\n",
        "\n",
        "    def division(self, a, b):\n",
        "      self.results.append(a/b)\n",
        "      if len(self.results) > 2:\n",
        "        self.results = self.results[-2:]\n",
        "      else:\n",
        "        self.results = self.results[:]\n",
        "      return a/b\n",
        "\n",
        "    def multiplication(self, a, b):\n",
        "      \n",
        "      self.results.append(a*b)\n",
        "      if len(self.results) > 2:\n",
        "        self.results = self.results[-2:]\n",
        "      else:\n",
        "            self.results = self.results[:]\n",
        "      return a*b\n",
        "\n",
        "    def power(self, a, b):\n",
        "      self.results.append(a**b)\n",
        "      if len(self.results) > 2:\n",
        "        self.results = self.results[-2:]\n",
        "      else:\n",
        "        self.results = self.results[:]\n",
        "      return a**b\n",
        "\n",
        "    def sqrt(self, a):\n",
        "      self.results.append(np.sqrt(a))\n",
        "      if len(self.results) > 2:\n",
        "        self.results = self.results[-2:]\n",
        "      else:\n",
        "        self.results = self.results[:]\n",
        "      return np.sqrt(a)\n",
        "    \n",
        "        \n",
        "# Method to return latest two results        \n",
        "    def get_latest_results(self):        \n",
        "        return self.results\n",
        "\n",
        "    \n",
        "# Method to clear list\n",
        "    def clear_results(self):\n",
        "        self.results = []\n",
        "        return self.results\n",
        "    "
      ],
      "id": "db099961",
      "execution_count": 1,
      "outputs": []
    },
    {
      "cell_type": "code",
      "metadata": {
        "id": "33e5f047"
      },
      "source": [
        "# Instantiate calculator object\n",
        "computation = calculator()"
      ],
      "id": "33e5f047",
      "execution_count": 2,
      "outputs": []
    },
    {
      "cell_type": "code",
      "metadata": {
        "colab": {
          "base_uri": "https://localhost:8080/"
        },
        "id": "W6KU6NxDtef0",
        "outputId": "29ec745a-44d1-40aa-e91a-85aec08a0ebf"
      },
      "source": [
        "# compute divident of two numbers\n",
        "\n",
        "computation.division(10,5)"
      ],
      "id": "W6KU6NxDtef0",
      "execution_count": 3,
      "outputs": [
        {
          "output_type": "execute_result",
          "data": {
            "text/plain": [
              "2.0"
            ]
          },
          "metadata": {},
          "execution_count": 3
        }
      ]
    },
    {
      "cell_type": "code",
      "metadata": {
        "colab": {
          "base_uri": "https://localhost:8080/"
        },
        "id": "momLBDBxt5YC",
        "outputId": "d3f98123-b336-46b9-e6e5-ee8559aa7c38"
      },
      "source": [
        "# compute quotient of two numbers\n",
        "\n",
        "computation.multiplication(4,6)"
      ],
      "id": "momLBDBxt5YC",
      "execution_count": 4,
      "outputs": [
        {
          "output_type": "execute_result",
          "data": {
            "text/plain": [
              "24"
            ]
          },
          "metadata": {},
          "execution_count": 4
        }
      ]
    },
    {
      "cell_type": "code",
      "metadata": {
        "colab": {
          "base_uri": "https://localhost:8080/"
        },
        "id": "tGPvvo2muVI8",
        "outputId": "1dfbec66-dd88-4ef7-ab39-521b7d479ede"
      },
      "source": [
        "# compute a**b\n",
        "\n",
        "computation.power(2,3)"
      ],
      "id": "tGPvvo2muVI8",
      "execution_count": 5,
      "outputs": [
        {
          "output_type": "execute_result",
          "data": {
            "text/plain": [
              "8"
            ]
          },
          "metadata": {},
          "execution_count": 5
        }
      ]
    },
    {
      "cell_type": "code",
      "metadata": {
        "colab": {
          "base_uri": "https://localhost:8080/"
        },
        "id": "o1YA7eF0vNpb",
        "outputId": "1e50e841-1174-4992-9266-9e958fd17794"
      },
      "source": [
        "# Compute the square root of a number\n",
        "computation.sqrt(16)"
      ],
      "id": "o1YA7eF0vNpb",
      "execution_count": 6,
      "outputs": [
        {
          "output_type": "execute_result",
          "data": {
            "text/plain": [
              "4.0"
            ]
          },
          "metadata": {},
          "execution_count": 6
        }
      ]
    },
    {
      "cell_type": "code",
      "metadata": {
        "colab": {
          "base_uri": "https://localhost:8080/"
        },
        "id": "JfUPoLEeREXc",
        "outputId": "11c6cfae-d9e2-4959-83e5-ee4a80758c5f"
      },
      "source": [
        "# Compute sum of two numbers\n",
        "computation.summation(3,4)"
      ],
      "id": "JfUPoLEeREXc",
      "execution_count": 7,
      "outputs": [
        {
          "output_type": "execute_result",
          "data": {
            "text/plain": [
              "7"
            ]
          },
          "metadata": {},
          "execution_count": 7
        }
      ]
    },
    {
      "cell_type": "code",
      "metadata": {
        "colab": {
          "base_uri": "https://localhost:8080/"
        },
        "id": "eOsOzk35RL9b",
        "outputId": "23181732-1eba-4e64-ee36-f1000131525e"
      },
      "source": [
        "# Compute difference of two numbers\n",
        "computation.subtraction(10,5)"
      ],
      "id": "eOsOzk35RL9b",
      "execution_count": 8,
      "outputs": [
        {
          "output_type": "execute_result",
          "data": {
            "text/plain": [
              "5"
            ]
          },
          "metadata": {},
          "execution_count": 8
        }
      ]
    },
    {
      "cell_type": "code",
      "metadata": {
        "colab": {
          "base_uri": "https://localhost:8080/"
        },
        "id": "887d2aeb",
        "outputId": "cb8086c8-844d-47b0-9cdc-31998741b574"
      },
      "source": [
        "# Get latest two results\n",
        "computation.get_latest_results()"
      ],
      "id": "887d2aeb",
      "execution_count": 9,
      "outputs": [
        {
          "output_type": "execute_result",
          "data": {
            "text/plain": [
              "[7, 5]"
            ]
          },
          "metadata": {},
          "execution_count": 9
        }
      ]
    },
    {
      "cell_type": "code",
      "metadata": {
        "colab": {
          "base_uri": "https://localhost:8080/"
        },
        "id": "idNSlanCRUWS",
        "outputId": "c9c81aac-3ae5-4ab3-889e-20e29574d79e"
      },
      "source": [
        "# Clear results from list\n",
        "computation.clear_results()"
      ],
      "id": "idNSlanCRUWS",
      "execution_count": 10,
      "outputs": [
        {
          "output_type": "execute_result",
          "data": {
            "text/plain": [
              "[]"
            ]
          },
          "metadata": {},
          "execution_count": 10
        }
      ]
    }
  ]
}